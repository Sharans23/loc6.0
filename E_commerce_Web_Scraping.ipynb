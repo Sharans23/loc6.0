{
  "nbformat": 4,
  "nbformat_minor": 0,
  "metadata": {
    "colab": {
      "provenance": [],
      "include_colab_link": true
    },
    "kernelspec": {
      "name": "python3",
      "display_name": "Python 3"
    },
    "language_info": {
      "name": "python"
    }
  },
  "cells": [
    {
      "cell_type": "markdown",
      "metadata": {
        "id": "view-in-github",
        "colab_type": "text"
      },
      "source": [
        "<a href=\"https://colab.research.google.com/github/Sharans23/loc6.0/blob/scraping/E_commerce_Web_Scraping.ipynb\" target=\"_parent\"><img src=\"https://colab.research.google.com/assets/colab-badge.svg\" alt=\"Open In Colab\"/></a>"
      ]
    },
    {
      "cell_type": "code",
      "execution_count": null,
      "metadata": {
        "id": "FcPqmw7wvV8-"
      },
      "outputs": [],
      "source": [
        "import requests\n",
        "import requests\n",
        "from bs4 import BeautifulSoup"
      ]
    },
    {
      "cell_type": "code",
      "source": [
        "text = title.get_text() # Will get text from html tags\n",
        "product_title = text.strip() # Removing special characters like \\n (newline)\n",
        "print(product_title )"
      ],
      "metadata": {
        "colab": {
          "base_uri": "https://localhost:8080/"
        },
        "id": "e1J2HB5m1ofH",
        "outputId": "23928d0e-15fd-4b97-ecd4-530789c07096"
      },
      "execution_count": null,
      "outputs": [
        {
          "output_type": "stream",
          "name": "stdout",
          "text": [
            "Canon EOS M50 Mark II + EF-M 15-45mm f/3.5-6.3 IS STM (Black) - Mirrorless camera built for content creators and streamers (4K, Vari-Angle screen, HDMI output, mic connection, YouTube live streaming)\n"
          ]
        }
      ]
    },
    {
      "cell_type": "code",
      "source": [
        "price = soup.find(id = 'priceblock_ourprice')\n",
        "price = price.get_text() # Will get text from html tags\n",
        "amazon_product_price = price.strip() # Removing special characters like \\n (newline)\n",
        "print(amazon_product_price)"
      ],
      "metadata": {
        "colab": {
          "base_uri": "https://localhost:8080/",
          "height": 193
        },
        "id": "8udV7SfR-CM6",
        "outputId": "f90dc37d-89f0-45c4-ce87-f64b00ba27e3"
      },
      "execution_count": null,
      "outputs": [
        {
          "output_type": "error",
          "ename": "AttributeError",
          "evalue": "'NoneType' object has no attribute 'get_text'",
          "traceback": [
            "\u001b[0;31m---------------------------------------------------------------------------\u001b[0m",
            "\u001b[0;31mAttributeError\u001b[0m                            Traceback (most recent call last)",
            "\u001b[0;32m<ipython-input-17-c520fd80a047>\u001b[0m in \u001b[0;36m<cell line: 2>\u001b[0;34m()\u001b[0m\n\u001b[1;32m      1\u001b[0m \u001b[0mprice\u001b[0m \u001b[0;34m=\u001b[0m \u001b[0msoup\u001b[0m\u001b[0;34m.\u001b[0m\u001b[0mfind\u001b[0m\u001b[0;34m(\u001b[0m\u001b[0mid\u001b[0m \u001b[0;34m=\u001b[0m \u001b[0;34m'priceblock_ourprice'\u001b[0m\u001b[0;34m)\u001b[0m\u001b[0;34m\u001b[0m\u001b[0;34m\u001b[0m\u001b[0m\n\u001b[0;32m----> 2\u001b[0;31m \u001b[0mprice\u001b[0m \u001b[0;34m=\u001b[0m \u001b[0mprice\u001b[0m\u001b[0;34m.\u001b[0m\u001b[0mget_text\u001b[0m\u001b[0;34m(\u001b[0m\u001b[0;34m)\u001b[0m \u001b[0;31m# Will get text from html tags\u001b[0m\u001b[0;34m\u001b[0m\u001b[0;34m\u001b[0m\u001b[0m\n\u001b[0m\u001b[1;32m      3\u001b[0m \u001b[0mamazon_product_price\u001b[0m \u001b[0;34m=\u001b[0m \u001b[0mprice\u001b[0m\u001b[0;34m.\u001b[0m\u001b[0mstrip\u001b[0m\u001b[0;34m(\u001b[0m\u001b[0;34m)\u001b[0m \u001b[0;31m# Removing special characters like \\n (newline)\u001b[0m\u001b[0;34m\u001b[0m\u001b[0;34m\u001b[0m\u001b[0m\n\u001b[1;32m      4\u001b[0m \u001b[0mprint\u001b[0m\u001b[0;34m(\u001b[0m\u001b[0mamazon_product_price\u001b[0m\u001b[0;34m)\u001b[0m\u001b[0;34m\u001b[0m\u001b[0;34m\u001b[0m\u001b[0m\n",
            "\u001b[0;31mAttributeError\u001b[0m: 'NoneType' object has no attribute 'get_text'"
          ]
        }
      ]
    },
    {
      "cell_type": "code",
      "source": [
        "amazon_url = \"https://www.amazon.com/s?k=phone&crid=2IKL9AU75F9HU&sprefix=%2Caps%2C260&ref=nb_sb_noss_1\"\n",
        "flipkart_url = \"https://www.flipkart.com/search?q=clothes+for+women&otracker=search&otracker1=search&marketplace=FLIPKART&as-show=on&as=off\"\n",
        "myntra_url = \"https://www.myntra.com/clothes-for-women?rawQuery=clothes%20for%20women\""
      ],
      "metadata": {
        "id": "ZcbY-k_oFdmW"
      },
      "execution_count": null,
      "outputs": []
    },
    {
      "cell_type": "code",
      "source": [
        "headers = {\"User-Agent\":\"Mozilla/5.0 (Windows NT 10.0; Win64; x64) AppleWebKit/537.36 (KHTML, like Gecko) Chrome/122.0.0.0 Safari/537.36\"}"
      ],
      "metadata": {
        "id": "3QQIpBDnHoMJ"
      },
      "execution_count": null,
      "outputs": []
    },
    {
      "cell_type": "code",
      "source": [
        "page = requests.get(url=amazon_url, headers=headers)\n",
        "soup = BeautifulSoup(page.content,'lxml')\n",
        "print(soup.prettify())"
      ],
      "metadata": {
        "id": "3YqaZukOHyuF"
      },
      "execution_count": null,
      "outputs": []
    },
    {
      "cell_type": "code",
      "source": [
        "flipkart = \"https://www.flipkart.com/\"\n",
        "page = requests.get(url=flipkart)\n",
        "print(page)\n",
        "# soup = BeautifulSoup(page.content,'lxml')\n",
        "# print(soup.prettify())"
      ],
      "metadata": {
        "colab": {
          "base_uri": "https://localhost:8080/"
        },
        "id": "AKLSG7EgLKMt",
        "outputId": "0db0d3bb-7498-4c62-e016-8d3897dbb169"
      },
      "execution_count": null,
      "outputs": [
        {
          "output_type": "stream",
          "name": "stdout",
          "text": [
            "<Response [500]>\n"
          ]
        }
      ]
    },
    {
      "cell_type": "code",
      "source": [
        "title = soup.find(id = 'productTitle')\n",
        "title"
      ],
      "metadata": {
        "id": "oGN7wHhPH-No"
      },
      "execution_count": null,
      "outputs": []
    }
  ]
}